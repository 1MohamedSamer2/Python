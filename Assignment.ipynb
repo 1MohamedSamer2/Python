{
  "cells": [
    {
      "cell_type": "markdown",
      "id": "ff38aad7",
      "metadata": {
        "id": "ff38aad7"
      },
      "source": [
        "### 1-Write a Python program that takes two numbers as user input and performs addition on them."
      ]
    },
    {
      "cell_type": "code",
      "execution_count": null,
      "id": "91696b79",
      "metadata": {
        "colab": {
          "base_uri": "https://localhost:8080/"
        },
        "id": "91696b79",
        "outputId": "3eb1f324-6cb1-4126-bf38-074eb2e88171"
      },
      "outputs": [
        {
          "output_type": "stream",
          "name": "stdout",
          "text": [
            "Enter first number: 3\n",
            "Enter second number: 4\n",
            "The result is 7.0\n"
          ]
        }
      ],
      "source": [
        "num1 = float(input('Enter first number: '))\n",
        "num2 = float(input('Enter second number: '))\n",
        "print('The result is', (num1 + num2))"
      ]
    },
    {
      "cell_type": "markdown",
      "id": "360854ff",
      "metadata": {
        "id": "360854ff"
      },
      "source": [
        "### 2-Write a Python program that takes an integer as input and checks if it is even or odd. Print \"Even\" if the number is divisible by 2, otherwise print \"Odd\"."
      ]
    },
    {
      "cell_type": "code",
      "execution_count": null,
      "id": "ee4c35fe",
      "metadata": {
        "ExecuteTime": {
          "end_time": "2023-07-23T21:35:24.351946Z",
          "start_time": "2023-07-23T21:35:23.287212Z"
        },
        "colab": {
          "base_uri": "https://localhost:8080/"
        },
        "id": "ee4c35fe",
        "outputId": "9240877d-e4b0-4ba5-979a-a9ec62d1a84b"
      },
      "outputs": [
        {
          "output_type": "stream",
          "name": "stdout",
          "text": [
            "Enter a number: 4\n",
            "Even\n"
          ]
        }
      ],
      "source": [
        "n = int(input('Enter a number: '))\n",
        "print('Even' if n % 2 == 0 else 'Odd')"
      ]
    },
    {
      "cell_type": "code",
      "execution_count": null,
      "id": "24616afc",
      "metadata": {
        "id": "24616afc"
      },
      "outputs": [],
      "source": []
    },
    {
      "cell_type": "markdown",
      "id": "6ea0354c",
      "metadata": {
        "id": "6ea0354c"
      },
      "source": [
        "### 3-Write a Python program that prints all the even numbers from 1 to 20 using a for loop"
      ]
    },
    {
      "cell_type": "code",
      "execution_count": null,
      "id": "df43b7f5",
      "metadata": {
        "ExecuteTime": {
          "end_time": "2023-07-23T21:36:51.373589Z",
          "start_time": "2023-07-23T21:36:51.365580Z"
        },
        "colab": {
          "base_uri": "https://localhost:8080/"
        },
        "id": "df43b7f5",
        "outputId": "d04ca57c-e51c-47cb-fd0b-222b49c59253"
      },
      "outputs": [
        {
          "output_type": "stream",
          "name": "stdout",
          "text": [
            "2\n",
            "4\n",
            "6\n",
            "8\n",
            "10\n",
            "12\n",
            "14\n",
            "16\n",
            "18\n",
            "20\n"
          ]
        }
      ],
      "source": [
        "for i in range(1, 21):\n",
        "  if i % 2 == 0:\n",
        "    print(i)\n",
        "  else:\n",
        "    continue"
      ]
    },
    {
      "cell_type": "code",
      "execution_count": null,
      "id": "cc16a5c2",
      "metadata": {
        "ExecuteTime": {
          "end_time": "2023-07-23T22:04:21.481350Z",
          "start_time": "2023-07-23T22:04:21.452242Z"
        },
        "id": "cc16a5c2"
      },
      "outputs": [],
      "source": []
    },
    {
      "cell_type": "code",
      "execution_count": null,
      "id": "7b7ee5e8",
      "metadata": {
        "id": "7b7ee5e8"
      },
      "outputs": [],
      "source": []
    },
    {
      "cell_type": "markdown",
      "id": "2d66bab2",
      "metadata": {
        "id": "2d66bab2"
      },
      "source": [
        "### 4-Write a Python function that takes a string as input and counts the number of vowels (a, e, i, o, u) in the string. The function should return the count"
      ]
    },
    {
      "cell_type": "code",
      "execution_count": null,
      "id": "a37a84fd",
      "metadata": {
        "ExecuteTime": {
          "end_time": "2023-07-23T21:45:58.522044Z",
          "start_time": "2023-07-23T21:45:58.514370Z"
        },
        "id": "a37a84fd"
      },
      "outputs": [],
      "source": [
        "def vowel(s):\n",
        "  counter = 0\n",
        "  for i in s:\n",
        "    if i == 'a' or i == 'e' or i == 'i' or i == 'o' or i == 'u':\n",
        "      counter += 1\n",
        "  return counter"
      ]
    },
    {
      "cell_type": "code",
      "execution_count": null,
      "id": "2eb8e4de",
      "metadata": {
        "ExecuteTime": {
          "end_time": "2023-07-23T23:56:27.324204Z",
          "start_time": "2023-07-23T23:56:26.972092Z"
        },
        "colab": {
          "base_uri": "https://localhost:8080/"
        },
        "id": "2eb8e4de",
        "outputId": "33ec0832-bbef-4a6a-d78d-6ebe9209771f"
      },
      "outputs": [
        {
          "output_type": "stream",
          "name": "stdout",
          "text": [
            "Enter a text: mohamed\n",
            "3\n"
          ]
        }
      ],
      "source": [
        "s = input('Enter a text: ')\n",
        "print(vowel(s))"
      ]
    },
    {
      "cell_type": "code",
      "execution_count": null,
      "id": "24105679",
      "metadata": {
        "ExecuteTime": {
          "end_time": "2023-07-23T21:43:41.353283Z",
          "start_time": "2023-07-23T21:43:41.332496Z"
        },
        "id": "24105679"
      },
      "outputs": [],
      "source": []
    },
    {
      "cell_type": "markdown",
      "id": "a9a0ea06",
      "metadata": {
        "id": "a9a0ea06"
      },
      "source": [
        "### 5-Write a Python program that creates a list of numbers from 1 to 10. Use a loop to iterate over the list and print each number of power 2."
      ]
    },
    {
      "cell_type": "code",
      "execution_count": null,
      "id": "6fa658cf",
      "metadata": {
        "ExecuteTime": {
          "end_time": "2023-07-23T21:48:02.328880Z",
          "start_time": "2023-07-23T21:48:02.314313Z"
        },
        "colab": {
          "base_uri": "https://localhost:8080/"
        },
        "id": "6fa658cf",
        "outputId": "4db92f87-f6d0-4c69-d306-d27c2144b04f"
      },
      "outputs": [
        {
          "output_type": "stream",
          "name": "stdout",
          "text": [
            "1\n",
            "4\n",
            "9\n",
            "16\n",
            "25\n",
            "36\n",
            "49\n",
            "64\n",
            "81\n",
            "100\n"
          ]
        }
      ],
      "source": [
        "l = []\n",
        "for i in range(1, 11):\n",
        "  l.append(i)\n",
        "for i in l:\n",
        "  print(i ** 2)"
      ]
    },
    {
      "cell_type": "code",
      "execution_count": null,
      "id": "f0e52d30",
      "metadata": {
        "ExecuteTime": {
          "end_time": "2023-07-15T16:20:03.747408Z",
          "start_time": "2023-07-15T16:20:03.740547Z"
        },
        "id": "f0e52d30"
      },
      "outputs": [],
      "source": []
    },
    {
      "cell_type": "markdown",
      "id": "430c9df9",
      "metadata": {
        "id": "430c9df9"
      },
      "source": [
        "### 6-Write a Python program that calculates the average grade for a student based on their scores in different subjects. The program should include the following steps:\n",
        "\n",
        "#### 1-Create variables to store the student's name, subject names, and corresponding scores. Initialize the variables with sample data.\n",
        "\n",
        "#### 2-Prompt the user to enter the student's name and assign it to the name variable.\n",
        "\n",
        "#### 3-Use a loop to prompt the user to enter the subject names and corresponding scores. Store the subject names in a list and the scores in another list.\n",
        "\n",
        "#### 4-After collecting the scores, calculate the average grade by summing up all the scores and dividing by the total number of subjects.\n",
        "\n",
        "#### 5-Check if the average grade is above a 70, print a congratulatory message. Otherwise, print an encouragement message."
      ]
    },
    {
      "cell_type": "code",
      "execution_count": null,
      "id": "e0254271",
      "metadata": {
        "ExecuteTime": {
          "end_time": "2023-07-15T16:16:17.066909Z",
          "start_time": "2023-07-15T16:16:07.636799Z"
        },
        "colab": {
          "base_uri": "https://localhost:8080/"
        },
        "id": "e0254271",
        "outputId": "f96165f0-c219-4dc6-e280-ad9250dff8a0"
      },
      "outputs": [
        {
          "output_type": "stream",
          "name": "stdout",
          "text": [
            "Enter your name: mohamed\n",
            "Enter your subject name: science\n",
            "Enter your score: 20\n",
            "Enter your subject name: arabic\n",
            "Enter your score: 50\n",
            "Enter your subject name: math\n",
            "Enter your score: 40\n",
            "Enter your subject name: english\n",
            "Enter your score: 80\n",
            "Enter your subject name: physics\n",
            "Enter your score: 40\n",
            "try again\n"
          ]
        }
      ],
      "source": [
        "studentName = input('Enter your name: ')\n",
        "subjectName = []\n",
        "score = []\n",
        "for i in range(5):\n",
        "  subjectName.append(input('Enter your subject name: '))\n",
        "  score.append(float(input('Enter your score: ')))\n",
        "sum = 0\n",
        "for i in score:\n",
        "  sum += i\n",
        "avg = sum / len(subjectName)\n",
        "if avg > 70:\n",
        "  print('Congratulation')\n",
        "else:\n",
        "  print('try again')\n",
        "\n"
      ]
    },
    {
      "cell_type": "code",
      "execution_count": null,
      "id": "37b3ff97",
      "metadata": {
        "ExecuteTime": {
          "end_time": "2023-07-23T21:56:24.493717Z",
          "start_time": "2023-07-23T21:56:17.227071Z"
        },
        "id": "37b3ff97"
      },
      "outputs": [],
      "source": []
    },
    {
      "cell_type": "markdown",
      "id": "ae9df360",
      "metadata": {
        "id": "ae9df360"
      },
      "source": [
        "### 7-Find Common Elements\n",
        "### Write a Python function that takes two lists as input and returns a new list containing the common elements present in both lists."
      ]
    },
    {
      "cell_type": "code",
      "execution_count": null,
      "id": "d030c3c0",
      "metadata": {
        "ExecuteTime": {
          "end_time": "2023-07-23T22:08:16.794474Z",
          "start_time": "2023-07-23T22:08:16.775639Z"
        },
        "id": "d030c3c0",
        "colab": {
          "base_uri": "https://localhost:8080/"
        },
        "outputId": "053bc850-8594-4347-9992-a39be1909988"
      },
      "outputs": [
        {
          "output_type": "stream",
          "name": "stdout",
          "text": [
            "Enter a number for list 1: 1\n",
            "Enter a number for list 1: 2\n",
            "Enter a number for list 1: 3\n",
            "Enter a number for list 1: 4\n",
            "Enter a number for list 1: 5\n",
            "Enter a number for list 2: 6\n",
            "Enter a number for list 2: 7\n",
            "Enter a number for list 2: 8\n",
            "Enter a number for list 2: 1\n",
            "Enter a number for list 2: 2\n",
            "[]\n"
          ]
        }
      ],
      "source": [
        "l1 = []\n",
        "l2 = []\n",
        "l3 = []\n",
        "for i in range(5):\n",
        "  l1.append(int(input('Enter a number for list 1: ')))\n",
        "for i in range(5):\n",
        "  l2.append(int(input('Enter a number for list 2: ')))\n",
        "l2.sort()\n",
        "first = 0\n",
        "last = len(l2) - 1\n",
        "for i in l1:\n",
        "  while(first < last):\n",
        "    mid = int((first + last) / 2)\n",
        "    if i == l2[mid]:\n",
        "      l2.append(i)\n",
        "      break\n",
        "    else:\n",
        "      if i < l2[mid]:\n",
        "        last = mid - 1\n",
        "      else:\n",
        "        first = mid + 1\n",
        "print(l3)"
      ]
    },
    {
      "cell_type": "code",
      "execution_count": null,
      "id": "371369cd",
      "metadata": {
        "ExecuteTime": {
          "end_time": "2023-07-23T23:56:27.326200Z",
          "start_time": "2023-07-23T23:56:27.326200Z"
        },
        "id": "371369cd"
      },
      "outputs": [],
      "source": [
        "list3"
      ]
    },
    {
      "cell_type": "markdown",
      "id": "9a2f34cb",
      "metadata": {
        "id": "9a2f34cb"
      },
      "source": [
        "### 8-Write a Python function that takes a list of numbers and an element to remove from the list."
      ]
    },
    {
      "cell_type": "code",
      "execution_count": null,
      "id": "78de9fe8",
      "metadata": {
        "ExecuteTime": {
          "end_time": "2023-07-23T22:21:36.514592Z",
          "start_time": "2023-07-23T22:21:36.505437Z"
        },
        "id": "78de9fe8"
      },
      "outputs": [],
      "source": [
        "def removeElement(l, element):\n",
        "  l.remove(element)"
      ]
    },
    {
      "cell_type": "code",
      "execution_count": null,
      "id": "d80aa813",
      "metadata": {
        "ExecuteTime": {
          "end_time": "2023-07-23T22:21:37.220121Z",
          "start_time": "2023-07-23T22:21:37.215586Z"
        },
        "colab": {
          "base_uri": "https://localhost:8080/"
        },
        "id": "d80aa813",
        "outputId": "159fed95-300c-4e97-e10d-eb638a5410d9"
      },
      "outputs": [
        {
          "output_type": "stream",
          "name": "stdout",
          "text": [
            "Enter a number: 5\n",
            "Enter a number: 2\n",
            "Enter a number: 3\n",
            "Enter a number: 7\n",
            "Enter a number: 8\n",
            "Enter a number: 6\n",
            "[2, 3, 7, 8, 6]\n"
          ]
        }
      ],
      "source": [
        "l = []\n",
        "for i in range(6):\n",
        "  l.append(int(input('Enter a number: ')))\n",
        "removeElement(l, 5)\n",
        "print(l)"
      ]
    },
    {
      "cell_type": "code",
      "execution_count": null,
      "id": "3feaf264",
      "metadata": {
        "ExecuteTime": {
          "end_time": "2023-07-23T22:21:38.480436Z",
          "start_time": "2023-07-23T22:21:38.464574Z"
        },
        "id": "3feaf264"
      },
      "outputs": [],
      "source": []
    },
    {
      "cell_type": "markdown",
      "id": "f1658f3b",
      "metadata": {
        "ExecuteTime": {
          "end_time": "2023-07-23T22:18:08.230185Z",
          "start_time": "2023-07-23T22:18:08.224220Z"
        },
        "id": "f1658f3b"
      },
      "source": [
        "### 9-Given 4 numbers A, B, C and D. Print the last 2 digits from their Multiplication.\n",
        "### Example :\n",
        "### the Multiplication of 4 numbers is 5 * 7 * 2 * 4 = 280 so the answer will be the last 2 digits which are 80."
      ]
    },
    {
      "cell_type": "code",
      "execution_count": null,
      "id": "e3acbe03",
      "metadata": {
        "ExecuteTime": {
          "end_time": "2023-07-23T22:26:11.183016Z",
          "start_time": "2023-07-23T22:26:03.981069Z"
        },
        "colab": {
          "base_uri": "https://localhost:8080/"
        },
        "id": "e3acbe03",
        "outputId": "03532612-004d-4f08-a128-d3ecff7139b9"
      },
      "outputs": [
        {
          "output_type": "stream",
          "name": "stdout",
          "text": [
            "Enter first number: 5\n",
            "Enter second number: 7\n",
            "Enter third number: 2\n",
            "Enter forth number: 4\n",
            "80\n"
          ]
        }
      ],
      "source": [
        "a = int(input('Enter first number: '))\n",
        "b = int(input('Enter second number: '))\n",
        "c = int(input('Enter third number: '))\n",
        "d = int(input('Enter forth number: '))\n",
        "mul = a * b * c * d\n",
        "print(mul % 100)"
      ]
    },
    {
      "cell_type": "markdown",
      "id": "d7ab15bb",
      "metadata": {
        "ExecuteTime": {
          "end_time": "2023-07-23T22:26:14.833712Z",
          "start_time": "2023-07-23T22:26:14.819130Z"
        },
        "id": "d7ab15bb"
      },
      "source": [
        "### 10- Given a number X. Determine if the number is prime or not"
      ]
    },
    {
      "cell_type": "code",
      "execution_count": null,
      "id": "59b27f0a",
      "metadata": {
        "ExecuteTime": {
          "end_time": "2023-07-23T22:35:25.933766Z",
          "start_time": "2023-07-23T22:35:24.168681Z"
        },
        "id": "59b27f0a",
        "colab": {
          "base_uri": "https://localhost:8080/"
        },
        "outputId": "3e38478d-44ec-4ce6-e9fe-7874baaa519a"
      },
      "outputs": [
        {
          "output_type": "stream",
          "name": "stdout",
          "text": [
            "Enter a number: 5\n",
            "Prime\n"
          ]
        }
      ],
      "source": [
        "n = int(input('Enter a number: '))\n",
        "prime = True\n",
        "if(n == 0 or n == 1):print('Not prime')\n",
        "else:\n",
        "  for i in range(2, int(n/2) + 1):\n",
        "    if n % i == 0:\n",
        "      prime = False\n",
        "      print('Not prime')\n",
        "      break\n",
        "if prime == True:print('Prime')\n"
      ]
    },
    {
      "cell_type": "code",
      "execution_count": null,
      "id": "03f6ff0e",
      "metadata": {
        "id": "03f6ff0e"
      },
      "outputs": [],
      "source": []
    },
    {
      "cell_type": "markdown",
      "id": "e1d1dcf9",
      "metadata": {
        "id": "e1d1dcf9"
      },
      "source": [
        "### 11- Given a number N and a list A of N numbers. Determine if the number X exists in array A or not and print its position (0-index)."
      ]
    },
    {
      "cell_type": "code",
      "execution_count": null,
      "id": "2b002b0e",
      "metadata": {
        "ExecuteTime": {
          "end_time": "2023-07-23T22:53:41.474835Z",
          "start_time": "2023-07-23T22:53:41.458293Z"
        },
        "colab": {
          "base_uri": "https://localhost:8080/"
        },
        "id": "2b002b0e",
        "outputId": "d7d9a93a-1a0a-48fc-9f33-500b4619a92e"
      },
      "outputs": [
        {
          "output_type": "stream",
          "name": "stdout",
          "text": [
            "Enter a number: 3\n",
            "Enter a number: 4\n",
            "Enter a number: 6\n",
            "Enter a number: 7\n",
            "Enter the number that you want to search: 4\n",
            "0\n"
          ]
        }
      ],
      "source": [
        "n = int(input('Enter a number: '))\n",
        "a = []\n",
        "flag = False\n",
        "for i in range(n):\n",
        "  a.append(int(input('Enter a number: ')))\n",
        "x = int(input('Enter the number that you want to search: '))\n",
        "for i in a:\n",
        "  if i == x:\n",
        "    print(a.index(i))\n",
        "    break\n",
        "  else:\n",
        "    if(i == a[len(a) - 1]):\n",
        "      print('Not found')"
      ]
    },
    {
      "cell_type": "markdown",
      "id": "f2ec854b",
      "metadata": {
        "id": "f2ec854b"
      },
      "source": [
        "### 12- Given a number N and a list A of N numbers. Determine if the array is lucky or not.\n",
        "\n",
        "#### Note: the array is lucky if the frequency (number of occurrence) of the minimum element is odd."
      ]
    },
    {
      "cell_type": "code",
      "execution_count": null,
      "id": "0c4f7f4b",
      "metadata": {
        "ExecuteTime": {
          "end_time": "2023-07-23T23:02:02.490192Z",
          "start_time": "2023-07-23T23:02:02.476874Z"
        },
        "colab": {
          "base_uri": "https://localhost:8080/"
        },
        "id": "0c4f7f4b",
        "outputId": "d7931cc5-a0ef-4509-bfc8-975e3cb58dba"
      },
      "outputs": [
        {
          "output_type": "stream",
          "name": "stdout",
          "text": [
            "Enter a number: 3\n",
            "Enter a number: 1\n",
            "Enter a number: 1\n",
            "Enter a number: 2\n",
            "Not a luky array\n"
          ]
        }
      ],
      "source": [
        "n = int(input('Enter a number: '))\n",
        "a = []\n",
        "for i in range(n):\n",
        "  a.append(int(input('Enter a number: ')))\n",
        "minVar = min(a)\n",
        "counter = 0\n",
        "for i in a:\n",
        "  if i == minVar:\n",
        "    counter += 1\n",
        "if counter % 2 != 0:\n",
        "  print('Lucky array')\n",
        "else:\n",
        "  print('Not a luky array')"
      ]
    },
    {
      "cell_type": "markdown",
      "id": "e1ce1ae5",
      "metadata": {
        "id": "e1ce1ae5"
      },
      "source": [
        "### 13-Given a number N and a list A of N numbers. Print the array after doing the following operations:\n",
        "\n",
        "#### Find minimum number in these numbers.\n",
        "#### Find maximum number in these numbers.\n",
        "##### Swap minimum number with maximum number."
      ]
    },
    {
      "cell_type": "code",
      "execution_count": null,
      "id": "e0d6e639",
      "metadata": {
        "ExecuteTime": {
          "end_time": "2023-07-23T23:10:04.293733Z",
          "start_time": "2023-07-23T23:10:04.280256Z"
        },
        "colab": {
          "base_uri": "https://localhost:8080/"
        },
        "id": "e0d6e639",
        "outputId": "e1a8dedb-8b7a-499a-f86e-09fb6dfe01d7"
      },
      "outputs": [
        {
          "output_type": "stream",
          "name": "stdout",
          "text": [
            "Enter a number: 3\n",
            "Enter a number: 4\n",
            "Enter a number: 7\n",
            "Enter a number: 2\n",
            "2\n",
            "7\n",
            "[4, 7, 2]\n",
            "[4, 2, 7]\n"
          ]
        }
      ],
      "source": [
        "n = int(input('Enter a number: '))\n",
        "a = []\n",
        "for i in range(n):\n",
        "  a.append(int(input('Enter a number: ')))\n",
        "minNum = min(a)\n",
        "maxNum = max(a)\n",
        "print(minNum)\n",
        "print(maxNum)\n",
        "minIndex = a.index(minNum)\n",
        "maxIndex = a.index(maxNum)\n",
        "print(a)\n",
        "a[minIndex], a[maxIndex] = a[maxIndex], a[minIndex]\n",
        "print(a)"
      ]
    },
    {
      "cell_type": "code",
      "source": [],
      "metadata": {
        "id": "m6z_wJGdx-Nj"
      },
      "id": "m6z_wJGdx-Nj",
      "execution_count": null,
      "outputs": []
    },
    {
      "cell_type": "code",
      "execution_count": null,
      "id": "20165184",
      "metadata": {
        "ExecuteTime": {
          "end_time": "2023-07-23T23:10:04.651957Z",
          "start_time": "2023-07-23T23:10:04.648955Z"
        },
        "id": "20165184"
      },
      "outputs": [],
      "source": []
    },
    {
      "cell_type": "code",
      "execution_count": null,
      "id": "4e5ac998",
      "metadata": {
        "ExecuteTime": {
          "end_time": "2023-07-23T23:56:27.327202Z",
          "start_time": "2023-07-23T23:56:27.327202Z"
        },
        "id": "4e5ac998"
      },
      "outputs": [],
      "source": [
        "maximum"
      ]
    },
    {
      "cell_type": "markdown",
      "id": "9eb8e9c5",
      "metadata": {
        "ExecuteTime": {
          "end_time": "2023-07-23T23:10:06.436833Z",
          "start_time": "2023-07-23T23:10:06.422086Z"
        },
        "id": "9eb8e9c5"
      },
      "source": [
        "### 14-Given a number N and an array A of N numbers. Print the lowest number and its position.\n",
        "\n",
        "### Note: if there are more than one answer print first one's position."
      ]
    },
    {
      "cell_type": "code",
      "execution_count": null,
      "id": "018e01c8",
      "metadata": {
        "ExecuteTime": {
          "end_time": "2023-07-23T23:20:38.498527Z",
          "start_time": "2023-07-23T23:20:38.490451Z"
        },
        "colab": {
          "base_uri": "https://localhost:8080/"
        },
        "id": "018e01c8",
        "outputId": "ee398b62-bd73-4889-9403-863ad004bf06"
      },
      "outputs": [
        {
          "output_type": "stream",
          "name": "stdout",
          "text": [
            "Enter a number: 3\n",
            "Enter a number: 2\n",
            "Enter a number: 3\n",
            "Enter a number: 1\n",
            "1\n",
            "2\n"
          ]
        }
      ],
      "source": [
        "n = int(input('Enter a number: '))\n",
        "a = []\n",
        "for i in range(n):\n",
        "  a.append(int(input('Enter a number: ')))\n",
        "print(min(a))\n",
        "print(a.index(min(a)))"
      ]
    },
    {
      "cell_type": "code",
      "execution_count": null,
      "id": "477554c7",
      "metadata": {
        "ExecuteTime": {
          "end_time": "2023-07-23T23:20:55.126958Z",
          "start_time": "2023-07-23T23:20:55.120450Z"
        },
        "id": "477554c7"
      },
      "outputs": [],
      "source": []
    },
    {
      "cell_type": "code",
      "execution_count": null,
      "id": "27e032e4",
      "metadata": {
        "ExecuteTime": {
          "end_time": "2023-07-23T23:20:55.425024Z",
          "start_time": "2023-07-23T23:20:55.407711Z"
        },
        "id": "27e032e4"
      },
      "outputs": [],
      "source": []
    },
    {
      "cell_type": "markdown",
      "id": "f35d3427",
      "metadata": {
        "ExecuteTime": {
          "end_time": "2023-07-23T23:20:55.880128Z",
          "start_time": "2023-07-23T23:20:55.861804Z"
        },
        "id": "f35d3427"
      },
      "source": [
        "### 15-Given a number N and an array A of N numbers. Print the numbers after sorting them"
      ]
    },
    {
      "cell_type": "code",
      "execution_count": null,
      "id": "a6e0edd4",
      "metadata": {
        "ExecuteTime": {
          "end_time": "2023-07-23T23:46:13.340484Z",
          "start_time": "2023-07-23T23:46:13.324468Z"
        },
        "colab": {
          "base_uri": "https://localhost:8080/"
        },
        "id": "a6e0edd4",
        "outputId": "5fce19cd-f91f-40b6-9caf-22cbba143a47"
      },
      "outputs": [
        {
          "output_type": "stream",
          "name": "stdout",
          "text": [
            "Enter a number: 3\n",
            "Enter a number: 5\n",
            "Enter a number: 2\n",
            "Enter a number: 9\n",
            "[2, 5, 9]\n"
          ]
        }
      ],
      "source": [
        "n = int(input('Enter a number: '))\n",
        "a = []\n",
        "for i in range(n):\n",
        "  a.append(int(input('Enter a number: ')))\n",
        "a.sort()\n",
        "print(a)"
      ]
    },
    {
      "cell_type": "code",
      "execution_count": null,
      "id": "38100d74",
      "metadata": {
        "ExecuteTime": {
          "end_time": "2023-07-23T23:46:14.343960Z",
          "start_time": "2023-07-23T23:46:14.325805Z"
        },
        "id": "38100d74"
      },
      "outputs": [],
      "source": []
    },
    {
      "cell_type": "markdown",
      "id": "a172f354",
      "metadata": {
        "ExecuteTime": {
          "end_time": "2023-07-23T23:46:15.127981Z",
          "start_time": "2023-07-23T23:46:15.108766Z"
        },
        "id": "a172f354"
      },
      "source": [
        "### 16- Write a Python program to remove spaces from a given string"
      ]
    },
    {
      "cell_type": "code",
      "execution_count": null,
      "id": "36d3569d",
      "metadata": {
        "ExecuteTime": {
          "end_time": "2023-07-23T23:50:06.443640Z",
          "start_time": "2023-07-23T23:50:01.592919Z"
        },
        "colab": {
          "base_uri": "https://localhost:8080/"
        },
        "id": "36d3569d",
        "outputId": "38014c74-9cb9-49e8-ceca-9a7cfe92cb68"
      },
      "outputs": [
        {
          "output_type": "stream",
          "name": "stdout",
          "text": [
            "Enter a number:        mohamed        \n",
            "mohamed\n"
          ]
        }
      ],
      "source": [
        "s = input('Enter a number: ')\n",
        "print(s.strip())"
      ]
    },
    {
      "cell_type": "markdown",
      "id": "a5470d49",
      "metadata": {
        "id": "a5470d49"
      },
      "source": [
        "### 17-write a Python program to swap first and last element of any list."
      ]
    },
    {
      "cell_type": "code",
      "execution_count": null,
      "id": "9d73887b",
      "metadata": {
        "ExecuteTime": {
          "end_time": "2023-07-23T23:50:59.283429Z",
          "start_time": "2023-07-23T23:50:59.272096Z"
        },
        "colab": {
          "base_uri": "https://localhost:8080/"
        },
        "id": "9d73887b",
        "outputId": "b05c59a2-772a-45cf-b2aa-87db476d9812"
      },
      "outputs": [
        {
          "output_type": "stream",
          "name": "stdout",
          "text": [
            "Enter a number: 5\n",
            "Enter a number: 6\n",
            "Enter a number: 2\n",
            "Enter a number: 4\n",
            "Enter a number: 6\n",
            "Enter a number: 2\n",
            "[6, 2, 4, 6, 2]\n",
            "[2, 2, 4, 6, 6]\n"
          ]
        }
      ],
      "source": [
        "n = int(input('Enter a number: '))\n",
        "a = []\n",
        "for i in range(n):\n",
        "  a.append(int(input('Enter a number: ')))\n",
        "print(a)\n",
        "a[0], a[len(a) - 1] = a[len(a) - 1], a[0]\n",
        "print(a)"
      ]
    },
    {
      "cell_type": "code",
      "execution_count": null,
      "id": "faa49913",
      "metadata": {
        "ExecuteTime": {
          "end_time": "2023-07-23T23:51:31.917164Z",
          "start_time": "2023-07-23T23:51:31.900550Z"
        },
        "id": "faa49913"
      },
      "outputs": [],
      "source": []
    },
    {
      "cell_type": "markdown",
      "id": "1ae6cf8e",
      "metadata": {
        "ExecuteTime": {
          "end_time": "2023-07-23T23:51:34.302184Z",
          "start_time": "2023-07-23T23:51:34.285461Z"
        },
        "id": "1ae6cf8e"
      },
      "source": [
        "### 18- Write a Python program to add member(s) to a set."
      ]
    },
    {
      "cell_type": "code",
      "execution_count": null,
      "id": "3e905e5b",
      "metadata": {
        "id": "3e905e5b",
        "colab": {
          "base_uri": "https://localhost:8080/"
        },
        "outputId": "a767510f-a5b2-4dde-f50a-2fa23dabc038"
      },
      "outputs": [
        {
          "output_type": "stream",
          "name": "stdout",
          "text": [
            "Enter a text: welcome\n",
            "{'hello', 'welcome', 'mohamed'}\n"
          ]
        }
      ],
      "source": [
        "s = {'hello', 'mohamed'}\n",
        "t = input('Enter a text: ')\n",
        "s.add(t)\n",
        "print(s)"
      ]
    },
    {
      "cell_type": "code",
      "execution_count": null,
      "id": "341c3d16",
      "metadata": {
        "id": "341c3d16"
      },
      "outputs": [],
      "source": []
    },
    {
      "cell_type": "markdown",
      "id": "db811fec",
      "metadata": {
        "id": "db811fec"
      },
      "source": [
        "### 19-Write a Python program to remove an item from a set if it is present in the set"
      ]
    },
    {
      "cell_type": "code",
      "execution_count": null,
      "id": "daa40ca6",
      "metadata": {
        "id": "daa40ca6",
        "colab": {
          "base_uri": "https://localhost:8080/"
        },
        "outputId": "60f02045-2404-48f1-e958-40c8e6a53d53"
      },
      "outputs": [
        {
          "output_type": "stream",
          "name": "stdout",
          "text": [
            "Enter the element you want to remove: welcome\n",
            "{'hello', 'mohamed'}\n"
          ]
        }
      ],
      "source": [
        "s = {'hello', 'mohamed', 'welcome'}\n",
        "t = input('Enter the element you want to remove: ')\n",
        "if t in s:\n",
        "  s.remove(t)\n",
        "else:print('The element that you want to search not found')\n",
        "print(s)"
      ]
    },
    {
      "cell_type": "markdown",
      "id": "240c9bde",
      "metadata": {
        "id": "240c9bde"
      },
      "source": [
        "### 20-Write a Python program to get the maximum and minimum values of a dictionary values"
      ]
    },
    {
      "cell_type": "code",
      "execution_count": null,
      "id": "4b767f24",
      "metadata": {
        "ExecuteTime": {
          "end_time": "2023-07-23T23:56:35.117528Z",
          "start_time": "2023-07-23T23:56:35.105969Z"
        },
        "colab": {
          "base_uri": "https://localhost:8080/"
        },
        "id": "4b767f24",
        "outputId": "9dd32b2c-b091-4569-e507-a74cf53a7503"
      },
      "outputs": [
        {
          "output_type": "stream",
          "name": "stdout",
          "text": [
            "5\n",
            "1\n"
          ]
        }
      ],
      "source": [
        "d = {'0':5, '1':1, '2':2}\n",
        "l = list(d.values())\n",
        "print(max(l))\n",
        "print(min(l))"
      ]
    },
    {
      "cell_type": "code",
      "execution_count": null,
      "id": "24423e73",
      "metadata": {
        "ExecuteTime": {
          "end_time": "2023-07-23T23:56:35.677287Z",
          "start_time": "2023-07-23T23:56:35.661315Z"
        },
        "id": "24423e73"
      },
      "outputs": [],
      "source": []
    },
    {
      "cell_type": "code",
      "execution_count": null,
      "id": "7ae7d263",
      "metadata": {
        "ExecuteTime": {
          "end_time": "2023-07-23T23:56:37.430631Z",
          "start_time": "2023-07-23T23:56:37.425625Z"
        },
        "id": "7ae7d263"
      },
      "outputs": [],
      "source": []
    },
    {
      "cell_type": "markdown",
      "id": "f1d3a246",
      "metadata": {
        "id": "f1d3a246"
      },
      "source": [
        "### 21-Write a Python program to drop empty items from a given dictionary.Original Dictionary:{'c1': 'Red', 'c2': 'Green', 'c3': None}New Dictionary after dropping empty items:{'c1': 'Red', 'c2': 'Green'}"
      ]
    },
    {
      "cell_type": "code",
      "execution_count": null,
      "id": "7c2a5807",
      "metadata": {
        "colab": {
          "base_uri": "https://localhost:8080/"
        },
        "id": "7c2a5807",
        "outputId": "34ff4840-4751-4437-cee2-7c5d92127130"
      },
      "outputs": [
        {
          "output_type": "stream",
          "name": "stdout",
          "text": [
            "{'c1': 'Red', 'c2': 'Green'}\n"
          ]
        }
      ],
      "source": [
        "d = {'c1': 'Red', 'c2': 'Green', 'c3': None}\n",
        "for key, val in d.copy().items():\n",
        "  if val is None:\n",
        "    del d[key]\n",
        "print(d)"
      ]
    }
  ],
  "metadata": {
    "kernelspec": {
      "display_name": "Python 3 (ipykernel)",
      "language": "python",
      "name": "python3"
    },
    "language_info": {
      "codemirror_mode": {
        "name": "ipython",
        "version": 3
      },
      "file_extension": ".py",
      "mimetype": "text/x-python",
      "name": "python",
      "nbconvert_exporter": "python",
      "pygments_lexer": "ipython3",
      "version": "3.9.12"
    },
    "colab": {
      "provenance": []
    }
  },
  "nbformat": 4,
  "nbformat_minor": 5
}