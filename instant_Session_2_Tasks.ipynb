{
  "nbformat": 4,
  "nbformat_minor": 0,
  "metadata": {
    "colab": {
      "provenance": []
    },
    "kernelspec": {
      "name": "python3",
      "display_name": "Python 3"
    },
    "language_info": {
      "name": "python"
    }
  },
  "cells": [
    {
      "cell_type": "markdown",
      "source": [
        "# Session 2 Tasks"
      ],
      "metadata": {
        "id": "N8blBjfzqU6I"
      }
    },
    {
      "cell_type": "markdown",
      "source": [
        "1. Create 3 variables to store street, city and country, now create address variable to\n",
        "store entire address. Use two ways of creating this variable, one using + operator and the other using f-string.\n",
        "Now Print the address in such a way that the street, city and country prints in a separate line\n",
        "2. Create a variable to store the string \"Earth revolves around the sun\"\n",
        "    1. Print \"revolves\" using slice operator\n",
        "    2. Print \"sun\" using negative index\n",
        "3. Create two variables to store how many fruits and vegetables you eat in a day.\n",
        "Now Print \"I eat x veggies and y fruits daily\" where x and y presents vegetables and fruits that you eat everyday. Use python f string for this.\n",
        "4. I have a string variable called s='maine 200 banana khaye'. This of course is a\n",
        "wrong statement, the correct statement is 'maine 10 samosa khaye'.\n",
        "Replace incorrect words in original strong with new ones and print the new string.\n",
        "Also try to do this in one line.\n"
      ],
      "metadata": {
        "id": "10XjML4cqZa4"
      }
    },
    {
      "cell_type": "code",
      "execution_count": null,
      "metadata": {
        "id": "P4EUN6nuqUPf",
        "colab": {
          "base_uri": "https://localhost:8080/"
        },
        "outputId": "63818834-f19b-449e-812e-18aa5fe0b295"
      },
      "outputs": [
        {
          "output_type": "stream",
          "name": "stdout",
          "text": [
            "Enter your street: street\n",
            "Enter your city: city\n",
            "Enter your country: country\n",
            "street\n",
            "city\n",
            "country\n",
            "street: street\n",
            "city: city\n",
            "country: country\n"
          ]
        }
      ],
      "source": [
        "street = input('Enter your street: ')\n",
        "city = input('Enter your city: ')\n",
        "country = input('Enter your country: ')\n",
        "address = street + '\\n' + city + '\\n' + country\n",
        "print(address)\n",
        "print(f'street: {street}\\ncity: {city}\\ncountry: {country}')"
      ]
    },
    {
      "cell_type": "code",
      "source": [
        "var = 'Earth revolves around the sun'\n",
        "print(var[6:14])\n",
        "print(var[-3:])"
      ],
      "metadata": {
        "colab": {
          "base_uri": "https://localhost:8080/"
        },
        "id": "KZ1zgsLAEkyB",
        "outputId": "11ab4171-865b-4bb2-9fae-2dfe7ade94d2"
      },
      "execution_count": null,
      "outputs": [
        {
          "output_type": "stream",
          "name": "stdout",
          "text": [
            "revolves\n",
            "sun\n"
          ]
        }
      ]
    },
    {
      "cell_type": "code",
      "source": [
        "x = int(input('Enter the number of vegetables that you eat: '))\n",
        "y = int(input('Enter the number of fruits that you eat: '))\n",
        "print(f'I eat {x} vegetables2 and {y} fruits daily')"
      ],
      "metadata": {
        "colab": {
          "base_uri": "https://localhost:8080/"
        },
        "id": "N6GgLF2NFm6n",
        "outputId": "ba7c0616-2dbb-4166-bdb3-d7a662f43ee2"
      },
      "execution_count": null,
      "outputs": [
        {
          "output_type": "stream",
          "name": "stdout",
          "text": [
            "Enter the number of vegetables that you eat: 15\n",
            "Enter the number of fruits that you eat: 20\n",
            "I eat 15 vegetables and 20 fruits daily\n"
          ]
        }
      ]
    },
    {
      "cell_type": "code",
      "source": [
        "s='maine 200 banana khaye'\n",
        "print(s.replace('200 banana', '10 samosa'))"
      ],
      "metadata": {
        "colab": {
          "base_uri": "https://localhost:8080/"
        },
        "id": "IguoYNyoG8wX",
        "outputId": "e50f6b2e-8e26-4874-ec0e-cd5f15c99e0e"
      },
      "execution_count": null,
      "outputs": [
        {
          "output_type": "stream",
          "name": "stdout",
          "text": [
            "maine 10 samosa khaye\n"
          ]
        }
      ]
    },
    {
      "cell_type": "markdown",
      "source": [
        "1. Let us say your expense for every month are listed below.\n",
        "\t  1. January -  2200\n",
        "    2. February - 2350\n",
        "    3. March - 2600\n",
        "    4. April - 2130\n",
        "    5. May - 2190\n",
        "\n",
        "Create a list to store these monthly expenses and using that find out,\n",
        "\n",
        "    1. In Feb, how many dollars you spent extra compare to January?\n",
        "    2. Find out your total expense in first quarter (first three months) of the year.\n",
        "    3. Find out if you spent exactly 2000 dollars in any month\n",
        "    4. June month just finished and your expense is 1980 dollar. Add this item to our monthly expense list\n",
        "    5. You returned an item that you bought in a month of April and\n",
        "    got a refund of 200$. Make a correction to your monthly expense list\n",
        "    based on this\n",
        "\n",
        "2. You have a list of your favourite marvel super heros.\n",
        "```\n",
        "heros=['spider man','thor','hulk','iron man','captain america']\n",
        "```\n",
        "\n",
        "Using this find out,\n",
        "\n",
        "    1. Length of the list\n",
        "    2. Add 'black panther' at the end of this list\n",
        "    3. You realize that you need to add 'black panther' after 'hulk',\n",
        "       so remove it from the list first and then add it after 'hulk'\n",
        "    4. Now you don't like thor and hulk because they get angry easily :)\n",
        "       So you want to remove thor and hulk from list and replace them with doctor strange (because he is cool).\n",
        "       Do that with one line of code.\n",
        "    5. Sort the heros list in alphabetical order (Hint. Use dir() functions to list down all functions available in list)\n",
        "\n",
        "\n",
        "\n",
        "\n"
      ],
      "metadata": {
        "id": "B98K3rbAqz7e"
      }
    },
    {
      "cell_type": "code",
      "source": [
        "expenses = [2200, 2350, 2600, 2130, 2190]\n",
        "print(f'Extra dollars that spent in Feb compare to Jan is: {expenses[1] - expenses[0]}')\n",
        "print(f'total expense in first quarter of the year is: {expenses[0] + expenses[1] + expenses[2]}')\n",
        "i = 1\n",
        "flag = False\n",
        "while i <= len(expenses) - 1:\n",
        "  if expenses[i] == 2000:\n",
        "    flag = True\n",
        "  i += 1\n",
        "if flag == True:\n",
        "    print('You spend exactly 2000')\n",
        "else:\n",
        "    print('your spent is not exactly 2000')\n",
        "expenses.append(1980)\n",
        "print(expenses)\n",
        "print(expenses[3] - 200)"
      ],
      "metadata": {
        "id": "vvus0ZOlrzJS",
        "colab": {
          "base_uri": "https://localhost:8080/"
        },
        "outputId": "b5358ad5-7d11-4648-f116-2d0e27ee6e96"
      },
      "execution_count": 14,
      "outputs": [
        {
          "output_type": "stream",
          "name": "stdout",
          "text": [
            "Extra dollars that spent in Feb compare to Jan is: 150\n",
            "total expense in first quarter of the year is: 7150\n",
            "your spent is not exactly 2000\n",
            "[2200, 2350, 2600, 2130, 2190, 1980]\n",
            "1930\n"
          ]
        }
      ]
    },
    {
      "cell_type": "code",
      "source": [
        "heros=['spider man','thor','hulk','iron man','captain america']\n",
        "print(len(heros))\n",
        "heros.append('black panther')\n",
        "print(heros)\n",
        "heros.pop()\n",
        "heros.insert(3, 'black panther')\n",
        "print(heros)\n",
        "print(dir(list))\n",
        "newHeros=heros\n",
        "newHeros[1:3] = ['doctor strange']\n",
        "print(heros)\n",
        "heros.sort()\n",
        "print(heros)\n",
        "i = 1\n"
      ],
      "metadata": {
        "colab": {
          "base_uri": "https://localhost:8080/"
        },
        "id": "XYejz6ieaNJU",
        "outputId": "06433fdb-45a1-4376-8291-01274d4f4dfb"
      },
      "execution_count": 73,
      "outputs": [
        {
          "output_type": "stream",
          "name": "stdout",
          "text": [
            "5\n",
            "['spider man', 'thor', 'hulk', 'iron man', 'captain america', 'black panther']\n",
            "['spider man', 'thor', 'hulk', 'black panther', 'iron man', 'captain america']\n",
            "['__add__', '__class__', '__class_getitem__', '__contains__', '__delattr__', '__delitem__', '__dir__', '__doc__', '__eq__', '__format__', '__ge__', '__getattribute__', '__getitem__', '__gt__', '__hash__', '__iadd__', '__imul__', '__init__', '__init_subclass__', '__iter__', '__le__', '__len__', '__lt__', '__mul__', '__ne__', '__new__', '__reduce__', '__reduce_ex__', '__repr__', '__reversed__', '__rmul__', '__setattr__', '__setitem__', '__sizeof__', '__str__', '__subclasshook__', 'append', 'clear', 'copy', 'count', 'extend', 'index', 'insert', 'pop', 'remove', 'reverse', 'sort']\n",
            "['spider man', 'doctor strange', 'black panther', 'iron man', 'captain america']\n",
            "['black panther', 'captain america', 'doctor strange', 'iron man', 'spider man']\n"
          ]
        }
      ]
    },
    {
      "cell_type": "markdown",
      "source": [
        "Write a program that prints following shape\n",
        "\n",
        "```\n",
        "    *\n",
        "   ***\n",
        "  *****\n",
        " *******\n",
        "*********\n",
        " *******\n",
        "  *****\n",
        "   ***\n",
        "    *\n",
        "```\n",
        "\n"
      ],
      "metadata": {
        "id": "ojrpvhohrzgJ"
      }
    },
    {
      "cell_type": "code",
      "source": [
        "\n",
        "#upper part\n",
        "# to make columns\n",
        "i = 1\n",
        "while i<=5:\n",
        "  j = 1\n",
        "  #to make space\n",
        "  while j <= 6-i:\n",
        "    print(' ', end='')\n",
        "    j += 1\n",
        "  #to make stars\n",
        "  k = 1\n",
        "  while k <= i*2-1:\n",
        "    print('*', end='')\n",
        "    k+=1\n",
        "  print('\\n')\n",
        "  i+=1\n",
        "\n",
        "#lower part\n",
        "# to make columns\n",
        "i = 4\n",
        "while i>=1:\n",
        "  j = 1\n",
        "  #to make space\n",
        "  while j <= 6-i:\n",
        "    print(' ', end='')\n",
        "    j += 1\n",
        "  #to make stars\n",
        "  k = 1\n",
        "  while k <= i*2-1:\n",
        "    print('*', end='')\n",
        "    k+=1\n",
        "  print('\\n')\n",
        "  i-=1"
      ],
      "metadata": {
        "id": "Ad-hutpdsCJ6",
        "colab": {
          "base_uri": "https://localhost:8080/"
        },
        "outputId": "8c9c5b47-476d-4630-8fa6-d03711d13c04"
      },
      "execution_count": 56,
      "outputs": [
        {
          "output_type": "stream",
          "name": "stdout",
          "text": [
            "     *\n",
            "\n",
            "    ***\n",
            "\n",
            "   *****\n",
            "\n",
            "  *******\n",
            "\n",
            " *********\n",
            "\n",
            "  *******\n",
            "\n",
            "   *****\n",
            "\n",
            "    ***\n",
            "\n",
            "     *\n",
            "\n"
          ]
        }
      ]
    }
  ]
}